{
 "cells": [
  {
   "cell_type": "markdown",
   "metadata": {},
   "source": [
    "#### Autores:\n",
    "- Esteban Padilla Cerdio\n",
    "- Hilda Beltrán Acosta"
   ]
  },
  {
   "cell_type": "code",
   "execution_count": 23,
   "metadata": {},
   "outputs": [],
   "source": [
    "\n",
    "def test(func):\n",
    "    import timeit\n",
    "    import random\n",
    "    a = [random.randint(0, 1000) for i in range(1000)]\n",
    "    t = timeit.Timer(lambda: func(a))\n",
    "    print(t.timeit(number=1))\n"
   ]
  },
  {
   "cell_type": "markdown",
   "metadata": {},
   "source": [
    "## Bubble sort"
   ]
  },
  {
   "cell_type": "code",
   "execution_count": 24,
   "metadata": {},
   "outputs": [
    {
     "name": "stdout",
     "output_type": "stream",
     "text": [
      "0.36086420000003727\n"
     ]
    }
   ],
   "source": [
    "def bubble_sort(L):\n",
    "    for i in range(len(L)-1):\n",
    "        for j in range(len(L)-1-i):\n",
    "            if L[j] > L[j+1]:\n",
    "                L[j], L[j+1] = L[j+1], L[j]\n",
    "    return L\n",
    "\n",
    "test(bubble_sort)\n"
   ]
  },
  {
   "cell_type": "markdown",
   "metadata": {},
   "source": [
    "## Selection Sort"
   ]
  },
  {
   "cell_type": "code",
   "execution_count": 25,
   "metadata": {},
   "outputs": [
    {
     "name": "stdout",
     "output_type": "stream",
     "text": [
      "0.1171994999999697\n"
     ]
    }
   ],
   "source": [
    "\n",
    "def selection_sort(L):\n",
    "    for i in range(len(L)-1):\n",
    "        min_index = i\n",
    "        for j in range(i+1, len(L)):\n",
    "            if L[j] < L[min_index]:\n",
    "                min_index = j\n",
    "        L[i], L[min_index] = L[min_index], L[i]\n",
    "    return L\n",
    "\n",
    "test(selection_sort)"
   ]
  },
  {
   "cell_type": "markdown",
   "metadata": {},
   "source": [
    "## Insertion sort"
   ]
  },
  {
   "cell_type": "code",
   "execution_count": 26,
   "metadata": {},
   "outputs": [
    {
     "name": "stdout",
     "output_type": "stream",
     "text": [
      "0.19647190000000592\n"
     ]
    }
   ],
   "source": [
    "\n",
    "def insertion_sort(L):\n",
    "    for i in range(1, len(L)):\n",
    "        j = i\n",
    "        while j > 0 and L[j] < L[j-1]:\n",
    "            L[j], L[j-1] = L[j-1], L[j]\n",
    "            j -= 1\n",
    "    return L\n",
    "\n",
    "test(insertion_sort)"
   ]
  },
  {
   "cell_type": "markdown",
   "metadata": {},
   "source": [
    "## Merge sort"
   ]
  },
  {
   "cell_type": "code",
   "execution_count": 27,
   "metadata": {},
   "outputs": [
    {
     "name": "stdout",
     "output_type": "stream",
     "text": [
      "0.02055880000000343\n"
     ]
    }
   ],
   "source": [
    "\n",
    "def merge_sort(L):\n",
    "    if len(L) < 2:\n",
    "        return L\n",
    "    else:\n",
    "        middle = len(L) // 2\n",
    "        left = merge_sort(L[:middle])\n",
    "        right = merge_sort(L[middle:])\n",
    "        return merge(left, right)\n",
    "\n",
    "\n",
    "def merge(left, right):\n",
    "    result = []\n",
    "    i, j = 0, 0\n",
    "    while i < len(left) and j < len(right):\n",
    "        if left[i] < right[j]:\n",
    "            result.append(left[i])\n",
    "            i += 1\n",
    "        else:\n",
    "            result.append(right[j])\n",
    "            j += 1\n",
    "    result += left[i:]\n",
    "    result += right[j:]\n",
    "    return result\n",
    "\n",
    "test(merge_sort)"
   ]
  },
  {
   "cell_type": "markdown",
   "metadata": {},
   "source": [
    "## Quicksort"
   ]
  },
  {
   "cell_type": "code",
   "execution_count": 28,
   "metadata": {},
   "outputs": [
    {
     "name": "stdout",
     "output_type": "stream",
     "text": [
      "0.01144529999999122\n"
     ]
    }
   ],
   "source": [
    "def quicksort(L):\n",
    "    if len(L) < 2:\n",
    "        return L\n",
    "    else:\n",
    "        pivot = L[0]\n",
    "        less = [i for i in L[1:] if i <= pivot]\n",
    "        greater = [i for i in L[1:] if i > pivot]\n",
    "        return quicksort(less) + [pivot] + quicksort(greater)\n",
    "\n",
    "test(quicksort)"
   ]
  }
 ],
 "metadata": {
  "kernelspec": {
   "display_name": "Python 3.9.13 64-bit (microsoft store)",
   "language": "python",
   "name": "python3"
  },
  "language_info": {
   "codemirror_mode": {
    "name": "ipython",
    "version": 3
   },
   "file_extension": ".py",
   "mimetype": "text/x-python",
   "name": "python",
   "nbconvert_exporter": "python",
   "pygments_lexer": "ipython3",
   "version": "3.9.13"
  },
  "orig_nbformat": 4,
  "vscode": {
   "interpreter": {
    "hash": "57f0ca181050c94837fea2df3afcd3ed329b6761fb4777e6102e2606cfbea34f"
   }
  }
 },
 "nbformat": 4,
 "nbformat_minor": 2
}
