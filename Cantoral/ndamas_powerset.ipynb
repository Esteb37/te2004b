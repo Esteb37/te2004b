{
 "cells": [
  {
   "cell_type": "markdown",
   "metadata": {},
   "source": [
    "### N Damas"
   ]
  },
  {
   "cell_type": "code",
   "execution_count": 9,
   "metadata": {},
   "outputs": [],
   "source": [
    "\n",
    "def isValid(row: int, col: int, positions: list, n: int):\n",
    "    '''\n",
    "        Function to check if the current position is not under attack\n",
    "    '''\n",
    "    \n",
    "    # For each row\n",
    "    for row2 in range(n):\n",
    "        \n",
    "        # Get the queen's column position in this row\n",
    "        col2 = positions[row2]\n",
    "\n",
    "        # If this row is occupied and the column is the same or is in the diagonal\n",
    "        # then the position is not valid\n",
    "        if col2 is not None and (col2 == col or abs(row-row2) == abs(col-col2)):\n",
    "            return False\n",
    "\n",
    "    return True\n",
    "\n",
    "\n",
    "def check(queen: int, positions: list, n: int):\n",
    "    '''\n",
    "        Recursive function to check all the possible positions for the queens\n",
    "    '''\n",
    "    \n",
    "    # For each column\n",
    "    for col in range(n):\n",
    "\n",
    "        # If the position is valid\n",
    "        if isValid(queen, col, positions, n):\n",
    "\n",
    "            # Set the queen's position\n",
    "            positions[queen] = col\n",
    "\n",
    "            # If this is the last queen, then it is a solution\n",
    "            if(queen == n-1):\n",
    "                print_positions(positions, n)\n",
    "\n",
    "            # If not, check the next queen\n",
    "            else:\n",
    "                check(queen + 1, positions, n)\n",
    "\n",
    "        # If it has reached the last column and it is not a solution,\n",
    "        # erase this position and return to the previous queen to try\n",
    "        # another position\n",
    "        if col == n - 1:\n",
    "            positions[queen] = None\n",
    "\n",
    "\n",
    "def print_positions(positions: list, n: int):\n",
    "    '''\n",
    "        Function to print the positions of the queens\n",
    "    '''\n",
    "    for col in positions:\n",
    "        for i in range(n):\n",
    "            if col == i:\n",
    "                print(\"O\", end=\" \")\n",
    "            else:\n",
    "                print(\"_\", end=\" \")\n",
    "        print(\"\\n\")\n",
    "\n",
    "    print(\"----------------\")\n",
    "\n",
    "def ndamas(n: int):\n",
    "    '''\n",
    "        Function to print all the possible solutions for the n-queens problem\n",
    "    '''\n",
    "    \n",
    "    # Start with queen 0, with an empty position list and n queens\n",
    "    check(0, [None]*n, n)\n"
   ]
  },
  {
   "cell_type": "code",
   "execution_count": 10,
   "metadata": {},
   "outputs": [
    {
     "name": "stdout",
     "output_type": "stream",
     "text": [
      "_ O _ _ \n",
      "\n",
      "_ _ _ O \n",
      "\n",
      "O _ _ _ \n",
      "\n",
      "_ _ O _ \n",
      "\n",
      "----------------\n",
      "_ _ O _ \n",
      "\n",
      "O _ _ _ \n",
      "\n",
      "_ _ _ O \n",
      "\n",
      "_ O _ _ \n",
      "\n",
      "----------------\n"
     ]
    }
   ],
   "source": [
    "n = 4\n",
    "\n",
    "ndamas(n)\n"
   ]
  },
  {
   "cell_type": "markdown",
   "metadata": {},
   "source": [
    "### Powerset"
   ]
  },
  {
   "cell_type": "code",
   "execution_count": 11,
   "metadata": {},
   "outputs": [],
   "source": [
    "def add(superset, subset, index, sets):\n",
    "    '''\n",
    "        Recursive function to add the subsets to the list\n",
    "    '''\n",
    "    # Add the subset to the list\n",
    "    sets.append(subset)\n",
    "    \n",
    "    # For each element in the superset, starting from the new index\n",
    "    for i, num in enumerate(superset[index:]):\n",
    "        \n",
    "        # Create a subset with the current element and the previous subset,\n",
    "        # and add it to the list. Then, call the function again with the \n",
    "        # index starting from the next element\n",
    "        add(superset, subset+[num], index + i + 1, sets)\n",
    "\n",
    "\n",
    "def powerset(superset):\n",
    "    '''\n",
    "        Function to create a powerset from a superset\n",
    "    '''\n",
    "    \n",
    "    # Start with an empty list\n",
    "    sets = []\n",
    "    \n",
    "    # Begin with the empty set [], at position 0\n",
    "    add(superset, [], 0, sets)\n",
    "    \n",
    "    return sets"
   ]
  },
  {
   "cell_type": "code",
   "execution_count": 12,
   "metadata": {},
   "outputs": [
    {
     "name": "stdout",
     "output_type": "stream",
     "text": [
      "[[], [1], [1, 2], [1, 2, 3], [1, 3], [2], [2, 3], [3]]\n"
     ]
    }
   ],
   "source": [
    "superset = [1, 2, 3]\n",
    "\n",
    "print(powerset(superset))\n"
   ]
  }
 ],
 "metadata": {
  "kernelspec": {
   "display_name": "Python 3.9.13 64-bit (microsoft store)",
   "language": "python",
   "name": "python3"
  },
  "language_info": {
   "codemirror_mode": {
    "name": "ipython",
    "version": 3
   },
   "file_extension": ".py",
   "mimetype": "text/x-python",
   "name": "python",
   "nbconvert_exporter": "python",
   "pygments_lexer": "ipython3",
   "version": "3.9.13"
  },
  "orig_nbformat": 4,
  "vscode": {
   "interpreter": {
    "hash": "57f0ca181050c94837fea2df3afcd3ed329b6761fb4777e6102e2606cfbea34f"
   }
  }
 },
 "nbformat": 4,
 "nbformat_minor": 2
}
